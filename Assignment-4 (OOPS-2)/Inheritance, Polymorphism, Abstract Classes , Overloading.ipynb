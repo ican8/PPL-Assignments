{
 "cells": [
  {
   "cell_type": "markdown",
   "metadata": {},
   "source": [
    "# 1 Simple Inheritence"
   ]
  },
  {
   "cell_type": "code",
   "execution_count": 1,
   "metadata": {},
   "outputs": [],
   "source": [
    "#base class\n",
    "class Animals(object):\n",
    "    \n",
    "    #class attributes :- avialable in base class\n",
    "    vertebrates = True\n",
    "    \n",
    "    #protected\n",
    "    _ears = 2\n",
    "    \n",
    "    #private\n",
    "    __tail = True\n",
    "    \n",
    "    def __init__(self):\n",
    "        print('Animal created')\n",
    "        #attributes of a particular object\n",
    "        #protected attribute\n",
    "        self._legs = 4\n",
    "        \n",
    "        #private attribute\n",
    "        self.__eyes = 2\n",
    "        \n",
    "    def eat(self):\n",
    "        print('Animal is eating now.')"
   ]
  },
  {
   "cell_type": "code",
   "execution_count": 2,
   "metadata": {},
   "outputs": [],
   "source": [
    "# dervied class from animal\n",
    "class Dog(Animals):\n",
    "    def __init__(self,name):\n",
    "        self.name = name\n",
    "        Animals.__init__(self)\n",
    "        print('Dog with name {} is created'.format(self.name))\n",
    "    \n",
    "    def sleep(self):\n",
    "        print('Dog is sleeping')\n",
    "        \n",
    "    def bark(self):\n",
    "        print('Woof!!')"
   ]
  },
  {
   "cell_type": "code",
   "execution_count": 3,
   "metadata": {},
   "outputs": [
    {
     "name": "stdout",
     "output_type": "stream",
     "text": [
      "Animal created\n",
      "Dog with name Bruce is created\n"
     ]
    }
   ],
   "source": [
    "d = Dog(name = 'Bruce')"
   ]
  },
  {
   "cell_type": "code",
   "execution_count": 4,
   "metadata": {},
   "outputs": [
    {
     "name": "stdout",
     "output_type": "stream",
     "text": [
      "Dog is sleeping\n"
     ]
    }
   ],
   "source": [
    "d.sleep()"
   ]
  },
  {
   "cell_type": "code",
   "execution_count": 5,
   "metadata": {},
   "outputs": [
    {
     "name": "stdout",
     "output_type": "stream",
     "text": [
      "Animal is eating now.\n"
     ]
    }
   ],
   "source": [
    "# base class method\n",
    "d.eat()"
   ]
  },
  {
   "cell_type": "code",
   "execution_count": 6,
   "metadata": {},
   "outputs": [
    {
     "data": {
      "text/plain": [
       "True"
      ]
     },
     "execution_count": 6,
     "metadata": {},
     "output_type": "execute_result"
    }
   ],
   "source": [
    "#base class normal attribute\n",
    "d.vertebrates"
   ]
  },
  {
   "cell_type": "code",
   "execution_count": 7,
   "metadata": {},
   "outputs": [
    {
     "data": {
      "text/plain": [
       "2"
      ]
     },
     "execution_count": 7,
     "metadata": {},
     "output_type": "execute_result"
    }
   ],
   "source": [
    "#base class protected attribute\n",
    "d._ears"
   ]
  },
  {
   "cell_type": "code",
   "execution_count": 9,
   "metadata": {},
   "outputs": [
    {
     "ename": "AttributeError",
     "evalue": "'Dog' object has no attribute '__tail'",
     "output_type": "error",
     "traceback": [
      "\u001b[1;31m---------------------------------------------------------------------------\u001b[0m",
      "\u001b[1;31mAttributeError\u001b[0m                            Traceback (most recent call last)",
      "\u001b[1;32m<ipython-input-9-96677427f6dc>\u001b[0m in \u001b[0;36m<module>\u001b[1;34m\u001b[0m\n\u001b[0;32m      1\u001b[0m \u001b[1;31m#base class private attribute\u001b[0m\u001b[1;33m\u001b[0m\u001b[1;33m\u001b[0m\u001b[1;33m\u001b[0m\u001b[0m\n\u001b[1;32m----> 2\u001b[1;33m \u001b[0md\u001b[0m\u001b[1;33m.\u001b[0m\u001b[0m__tail\u001b[0m\u001b[1;33m\u001b[0m\u001b[1;33m\u001b[0m\u001b[0m\n\u001b[0m",
      "\u001b[1;31mAttributeError\u001b[0m: 'Dog' object has no attribute '__tail'"
     ]
    }
   ],
   "source": [
    "#base class private attribute\n",
    "d.__tail"
   ]
  },
  {
   "cell_type": "code",
   "execution_count": 10,
   "metadata": {},
   "outputs": [
    {
     "data": {
      "text/plain": [
       "True"
      ]
     },
     "execution_count": 10,
     "metadata": {},
     "output_type": "execute_result"
    }
   ],
   "source": [
    "#base class private attribute accessing through name malling\n",
    "d._Animals__tail"
   ]
  },
  {
   "cell_type": "code",
   "execution_count": 11,
   "metadata": {},
   "outputs": [
    {
     "data": {
      "text/plain": [
       "4"
      ]
     },
     "execution_count": 11,
     "metadata": {},
     "output_type": "execute_result"
    }
   ],
   "source": [
    "d._legs"
   ]
  },
  {
   "cell_type": "code",
   "execution_count": 12,
   "metadata": {},
   "outputs": [
    {
     "data": {
      "text/plain": [
       "2"
      ]
     },
     "execution_count": 12,
     "metadata": {},
     "output_type": "execute_result"
    }
   ],
   "source": [
    "#private members\n",
    "d._Animals__eyes"
   ]
  },
  {
   "cell_type": "markdown",
   "metadata": {},
   "source": [
    "## 2 Overriding \\_\\_init\\_\\_ method"
   ]
  },
  {
   "cell_type": "code",
   "execution_count": 13,
   "metadata": {},
   "outputs": [],
   "source": [
    "#base class\n",
    "class Animals(object):\n",
    "    \n",
    "    _vertebrates = True\n",
    "    def __init__(self):\n",
    "        print('Animal created')\n",
    "        #protected attribute\n",
    "        self._legs = 4\n",
    "        \n",
    "        #private attribute\n",
    "        self._eyes = 2\n",
    "        \n",
    "    def eat(self):\n",
    "        print('Animal is eating now.')"
   ]
  },
  {
   "cell_type": "code",
   "execution_count": 14,
   "metadata": {},
   "outputs": [],
   "source": [
    "#deriving Cat class from Animals\n",
    "class Cat(Animals):\n",
    "    def __init__(self):\n",
    "        print('Cat Created')\n",
    "        \n",
    "    def mew(self):\n",
    "        print('mew')\n",
    "    "
   ]
  },
  {
   "cell_type": "code",
   "execution_count": 15,
   "metadata": {},
   "outputs": [
    {
     "name": "stdout",
     "output_type": "stream",
     "text": [
      "Cat Created\n"
     ]
    }
   ],
   "source": [
    "c = Cat()"
   ]
  },
  {
   "cell_type": "markdown",
   "metadata": {},
   "source": [
    "### As init method of base class animals was not called we can't access class objects' attributes"
   ]
  },
  {
   "cell_type": "code",
   "execution_count": 16,
   "metadata": {},
   "outputs": [
    {
     "ename": "AttributeError",
     "evalue": "'Cat' object has no attribute '_legs'",
     "output_type": "error",
     "traceback": [
      "\u001b[1;31m---------------------------------------------------------------------------\u001b[0m",
      "\u001b[1;31mAttributeError\u001b[0m                            Traceback (most recent call last)",
      "\u001b[1;32m<ipython-input-16-ebc38aaac09f>\u001b[0m in \u001b[0;36m<module>\u001b[1;34m\u001b[0m\n\u001b[1;32m----> 1\u001b[1;33m \u001b[0mc\u001b[0m\u001b[1;33m.\u001b[0m\u001b[0m_legs\u001b[0m\u001b[1;33m\u001b[0m\u001b[1;33m\u001b[0m\u001b[0m\n\u001b[0m",
      "\u001b[1;31mAttributeError\u001b[0m: 'Cat' object has no attribute '_legs'"
     ]
    }
   ],
   "source": [
    "c._legs"
   ]
  },
  {
   "cell_type": "markdown",
   "metadata": {},
   "source": [
    "### but we can access attributes of whole class as well methods"
   ]
  },
  {
   "cell_type": "code",
   "execution_count": 17,
   "metadata": {},
   "outputs": [
    {
     "data": {
      "text/plain": [
       "True"
      ]
     },
     "execution_count": 17,
     "metadata": {},
     "output_type": "execute_result"
    }
   ],
   "source": [
    "c._vertebrates"
   ]
  },
  {
   "cell_type": "code",
   "execution_count": 18,
   "metadata": {},
   "outputs": [
    {
     "name": "stdout",
     "output_type": "stream",
     "text": [
      "Animal is eating now.\n"
     ]
    }
   ],
   "source": [
    "c.eat()"
   ]
  },
  {
   "cell_type": "code",
   "execution_count": 19,
   "metadata": {},
   "outputs": [
    {
     "name": "stdout",
     "output_type": "stream",
     "text": [
      "mew\n"
     ]
    }
   ],
   "source": [
    "c.mew()"
   ]
  },
  {
   "cell_type": "markdown",
   "metadata": {},
   "source": [
    "## 3"
   ]
  },
  {
   "cell_type": "code",
   "execution_count": 20,
   "metadata": {},
   "outputs": [],
   "source": [
    "class Animals(object):\n",
    "    \n",
    "    _vertebrates = True\n",
    "    def __init__(self):\n",
    "        print('Animal created')\n",
    "        #protected attribute\n",
    "        self._legs = 4\n",
    "        \n",
    "        #private attribute\n",
    "        self._eyes = 2\n",
    "        \n",
    "    def eat(self):\n",
    "        print('Animal is eating now.')"
   ]
  },
  {
   "cell_type": "code",
   "execution_count": 21,
   "metadata": {},
   "outputs": [],
   "source": [
    "#deriving Cat class from Animals\n",
    "class Cat(Animals):\n",
    "        \n",
    "    def mew(self):\n",
    "        print('mew')"
   ]
  },
  {
   "cell_type": "markdown",
   "metadata": {},
   "source": [
    "### Here we did not override the \\__init\\__  method of the base class.\n",
    "### In example 2, we override the \\__init\\__ method hence we lost access to attributes likes legs and eyes"
   ]
  },
  {
   "cell_type": "code",
   "execution_count": 22,
   "metadata": {},
   "outputs": [
    {
     "name": "stdout",
     "output_type": "stream",
     "text": [
      "Animal created\n"
     ]
    }
   ],
   "source": [
    "tom = Cat()"
   ]
  },
  {
   "cell_type": "code",
   "execution_count": 23,
   "metadata": {},
   "outputs": [
    {
     "name": "stdout",
     "output_type": "stream",
     "text": [
      "mew\n"
     ]
    }
   ],
   "source": [
    "tom.mew()"
   ]
  },
  {
   "cell_type": "code",
   "execution_count": 24,
   "metadata": {},
   "outputs": [
    {
     "data": {
      "text/plain": [
       "2"
      ]
     },
     "execution_count": 24,
     "metadata": {},
     "output_type": "execute_result"
    }
   ],
   "source": [
    "tom._eyes"
   ]
  },
  {
   "cell_type": "code",
   "execution_count": 25,
   "metadata": {},
   "outputs": [
    {
     "data": {
      "text/plain": [
       "4"
      ]
     },
     "execution_count": 25,
     "metadata": {},
     "output_type": "execute_result"
    }
   ],
   "source": [
    "tom._legs"
   ]
  },
  {
   "cell_type": "markdown",
   "metadata": {},
   "source": [
    "## 4 Function overriding and use of super()"
   ]
  },
  {
   "cell_type": "code",
   "execution_count": 26,
   "metadata": {},
   "outputs": [],
   "source": [
    "class Animals(object):\n",
    "    \n",
    "    _vertebrates = True\n",
    "    \n",
    "    def __init__(self):\n",
    "        print('Animal created')\n",
    "        #protected attribute\n",
    "        self._legs = 4\n",
    "        \n",
    "        #private attribute\n",
    "        self._eyes = 2\n",
    "        \n",
    "    def eat(self):\n",
    "        print('Animal is eating now.')\n",
    "        \n",
    "    def make_sound(self):\n",
    "        print('Some Sound!')"
   ]
  },
  {
   "cell_type": "code",
   "execution_count": 27,
   "metadata": {},
   "outputs": [],
   "source": [
    "#deriving Cat class from Animals\n",
    "class Cat(Animals):\n",
    "     def __init__(self,name):\n",
    "            self.name = name\n",
    "            super().__init__()\n",
    "     def make_sound(self):\n",
    "        print('mew')\n",
    "        print('Cat can also make animal sound')\n",
    "        super().make_sound()\n",
    "        "
   ]
  },
  {
   "cell_type": "code",
   "execution_count": 28,
   "metadata": {},
   "outputs": [
    {
     "name": "stdout",
     "output_type": "stream",
     "text": [
      "Animal created\n"
     ]
    }
   ],
   "source": [
    "c = Cat('Vanni')"
   ]
  },
  {
   "cell_type": "code",
   "execution_count": 29,
   "metadata": {},
   "outputs": [
    {
     "data": {
      "text/plain": [
       "'Vanni'"
      ]
     },
     "execution_count": 29,
     "metadata": {},
     "output_type": "execute_result"
    }
   ],
   "source": [
    "c.name"
   ]
  },
  {
   "cell_type": "code",
   "execution_count": 30,
   "metadata": {},
   "outputs": [
    {
     "name": "stdout",
     "output_type": "stream",
     "text": [
      "mew\n",
      "Cat can also make animal sound\n",
      "Some Sound!\n"
     ]
    }
   ],
   "source": [
    "c.make_sound()"
   ]
  },
  {
   "cell_type": "markdown",
   "metadata": {},
   "source": [
    "## 5 Multilevel inheritence"
   ]
  },
  {
   "cell_type": "markdown",
   "metadata": {},
   "source": [
    "Here Rabbit is inherited from Animals which in turn is inherited from Mammals.\n",
    "All protected members and methods of all parent classes are available to the child class"
   ]
  },
  {
   "cell_type": "code",
   "execution_count": 31,
   "metadata": {},
   "outputs": [],
   "source": [
    "class Mammals(object):\n",
    "    def __init__(self):\n",
    "        print('mammal created')\n",
    "        self._age = 10\n",
    "    \n",
    "    def living_place(self):\n",
    "        print('Mammal is living on the land')"
   ]
  },
  {
   "cell_type": "code",
   "execution_count": 32,
   "metadata": {},
   "outputs": [],
   "source": [
    "class Animals(Mammals):\n",
    "    def __init__(self):\n",
    "        super().__init__()\n",
    "        print('Animal created')\n",
    "        \n",
    "    def eat(self):\n",
    "        print('Animal eats')"
   ]
  },
  {
   "cell_type": "code",
   "execution_count": 33,
   "metadata": {},
   "outputs": [],
   "source": [
    "class Rabbit(Animals):\n",
    "    def __init__(self):\n",
    "        super().__init__()\n",
    "        print('Rabbit is created!')\n",
    "    \n",
    "    def run(self):\n",
    "        print('Rabbit runs faster')"
   ]
  },
  {
   "cell_type": "code",
   "execution_count": 34,
   "metadata": {},
   "outputs": [
    {
     "name": "stdout",
     "output_type": "stream",
     "text": [
      "mammal created\n",
      "Animal created\n",
      "Rabbit is created!\n"
     ]
    }
   ],
   "source": [
    "Ron = Rabbit()"
   ]
  },
  {
   "cell_type": "code",
   "execution_count": 35,
   "metadata": {},
   "outputs": [
    {
     "name": "stdout",
     "output_type": "stream",
     "text": [
      "Rabbit runs faster\n"
     ]
    }
   ],
   "source": [
    "Ron.run()"
   ]
  },
  {
   "cell_type": "code",
   "execution_count": 36,
   "metadata": {},
   "outputs": [
    {
     "name": "stdout",
     "output_type": "stream",
     "text": [
      "Animal eats\n"
     ]
    }
   ],
   "source": [
    "Ron.eat()"
   ]
  },
  {
   "cell_type": "code",
   "execution_count": 37,
   "metadata": {},
   "outputs": [
    {
     "name": "stdout",
     "output_type": "stream",
     "text": [
      "Mammal is living on the land\n"
     ]
    }
   ],
   "source": [
    "Ron.living_place()"
   ]
  },
  {
   "cell_type": "code",
   "execution_count": 38,
   "metadata": {},
   "outputs": [
    {
     "data": {
      "text/plain": [
       "10"
      ]
     },
     "execution_count": 38,
     "metadata": {},
     "output_type": "execute_result"
    }
   ],
   "source": [
    "Ron._age"
   ]
  },
  {
   "cell_type": "markdown",
   "metadata": {},
   "source": [
    "## 6 Multiple inheritence"
   ]
  },
  {
   "cell_type": "markdown",
   "metadata": {},
   "source": [
    "Bat is inherits properties of both Animals and Birds. First Animals is written while inheriting hence super() and any other methods comman to both parents will be executed according to Animals"
   ]
  },
  {
   "cell_type": "code",
   "execution_count": 39,
   "metadata": {},
   "outputs": [],
   "source": [
    "class Animals(object):\n",
    "    def __init__(self,age = 10):\n",
    "        print('Animal is craeated')\n",
    "        self._age = age\n",
    "        \n",
    "    def run(self):\n",
    "        print('Animal runs')\n",
    "    \n",
    "    def sound(self):\n",
    "        print('Animal Sound')"
   ]
  },
  {
   "cell_type": "code",
   "execution_count": 40,
   "metadata": {},
   "outputs": [],
   "source": [
    "class Birds(object):\n",
    "    def __init__(self,age = 5):\n",
    "        print('Bird is created')\n",
    "        self._age = 5\n",
    "    \n",
    "    def fly(self):\n",
    "        print('Bird is flying')\n",
    "        \n",
    "    def sound(self):\n",
    "        print('Bird Sound')"
   ]
  },
  {
   "cell_type": "code",
   "execution_count": 41,
   "metadata": {},
   "outputs": [],
   "source": [
    "class Bat(Animals, Birds):\n",
    "    def __init__(self):\n",
    "        super().__init__()\n",
    "        print('Bat created')\n",
    "        \n",
    "    def sleep(self):\n",
    "        print('Bat is sleeping')"
   ]
  },
  {
   "cell_type": "code",
   "execution_count": 42,
   "metadata": {},
   "outputs": [
    {
     "name": "stdout",
     "output_type": "stream",
     "text": [
      "Animal is craeated\n",
      "Bat created\n"
     ]
    }
   ],
   "source": [
    "b = Bat()"
   ]
  },
  {
   "cell_type": "code",
   "execution_count": 43,
   "metadata": {},
   "outputs": [
    {
     "name": "stdout",
     "output_type": "stream",
     "text": [
      "Bird is flying\n"
     ]
    }
   ],
   "source": [
    "b.fly()"
   ]
  },
  {
   "cell_type": "code",
   "execution_count": 44,
   "metadata": {},
   "outputs": [
    {
     "data": {
      "text/plain": [
       "10"
      ]
     },
     "execution_count": 44,
     "metadata": {},
     "output_type": "execute_result"
    }
   ],
   "source": [
    "#age of Animal will be printed\n",
    "b._age"
   ]
  },
  {
   "cell_type": "code",
   "execution_count": 45,
   "metadata": {},
   "outputs": [
    {
     "name": "stdout",
     "output_type": "stream",
     "text": [
      "Animal Sound\n"
     ]
    }
   ],
   "source": [
    "b.sound()"
   ]
  },
  {
   "cell_type": "markdown",
   "metadata": {},
   "source": [
    "## 7 Abstract classes"
   ]
  },
  {
   "cell_type": "markdown",
   "metadata": {},
   "source": [
    "__Abstract classes are classes that contain one or more abstract methods. An abstract method is a method that is declared, but contains no implementation. Abstract classes cannot be instantiated, and require subclasses to provide implementations for the abstract methods.__"
   ]
  },
  {
   "cell_type": "code",
   "execution_count": 46,
   "metadata": {},
   "outputs": [],
   "source": [
    "from abc import ABC, abstractmethod\n",
    "class Fish(ABC):\n",
    "    def __init__(self,locality = 'sea',speed = '60mph'):\n",
    "        self.locality = locality\n",
    "        self.speed = speed\n",
    "    @abstractmethod   \n",
    "    def swim_backwords(self):\n",
    "        pass"
   ]
  },
  {
   "cell_type": "code",
   "execution_count": 47,
   "metadata": {},
   "outputs": [],
   "source": [
    "class GoldFish(Fish):\n",
    "    \n",
    "    def __init__(self):\n",
    "        self.color = 'golden'\n",
    "        super().__init__('freshwater','40mph')\n",
    "    \n",
    "    def swim_backwords(self):\n",
    "        print('YES!')"
   ]
  },
  {
   "cell_type": "code",
   "execution_count": 48,
   "metadata": {},
   "outputs": [],
   "source": [
    "g = GoldFish()"
   ]
  },
  {
   "cell_type": "code",
   "execution_count": 49,
   "metadata": {},
   "outputs": [
    {
     "data": {
      "text/plain": [
       "'golden'"
      ]
     },
     "execution_count": 49,
     "metadata": {},
     "output_type": "execute_result"
    }
   ],
   "source": [
    "g.color"
   ]
  },
  {
   "cell_type": "code",
   "execution_count": 50,
   "metadata": {},
   "outputs": [
    {
     "data": {
      "text/plain": [
       "'freshwater'"
      ]
     },
     "execution_count": 50,
     "metadata": {},
     "output_type": "execute_result"
    }
   ],
   "source": [
    "g.locality"
   ]
  },
  {
   "cell_type": "code",
   "execution_count": 51,
   "metadata": {},
   "outputs": [
    {
     "data": {
      "text/plain": [
       "'40mph'"
      ]
     },
     "execution_count": 51,
     "metadata": {},
     "output_type": "execute_result"
    }
   ],
   "source": [
    "g.speed"
   ]
  },
  {
   "cell_type": "code",
   "execution_count": 52,
   "metadata": {},
   "outputs": [
    {
     "name": "stdout",
     "output_type": "stream",
     "text": [
      "YES!\n"
     ]
    }
   ],
   "source": [
    "g.swim_backwords()"
   ]
  },
  {
   "cell_type": "markdown",
   "metadata": {},
   "source": [
    "## 8 "
   ]
  },
  {
   "cell_type": "code",
   "execution_count": 53,
   "metadata": {},
   "outputs": [],
   "source": [
    "from abc import ABC, abstractmethod\n",
    "class Fish(ABC):\n",
    "    def __init__(self,locality = 'sea',speed = '60mph'):\n",
    "        self.locality = locality\n",
    "        self.speed = speed\n",
    "    @abstractmethod   \n",
    "    def swim_backwords(self):\n",
    "        pass\n",
    "    \n",
    "    @abstractmethod\n",
    "    def eat_fish(self):\n",
    "        pass"
   ]
  },
  {
   "cell_type": "code",
   "execution_count": 54,
   "metadata": {},
   "outputs": [],
   "source": [
    "class GoldFish(Fish):\n",
    "    \n",
    "    def __init__(self):\n",
    "        self.color = 'golden'\n",
    "        super().__init__('freshwater','40mph')\n",
    "    \n",
    "    def swim_backwords(self):\n",
    "        print('YES!')"
   ]
  },
  {
   "cell_type": "markdown",
   "metadata": {},
   "source": [
    " as GoldFish extends from Abstract class Fish and does not implement all abstract methods, it will raise error"
   ]
  },
  {
   "cell_type": "code",
   "execution_count": 55,
   "metadata": {},
   "outputs": [
    {
     "ename": "TypeError",
     "evalue": "Can't instantiate abstract class GoldFish with abstract methods eat_fish",
     "output_type": "error",
     "traceback": [
      "\u001b[1;31m---------------------------------------------------------------------------\u001b[0m",
      "\u001b[1;31mTypeError\u001b[0m                                 Traceback (most recent call last)",
      "\u001b[1;32m<ipython-input-55-a99eaa34e23c>\u001b[0m in \u001b[0;36m<module>\u001b[1;34m\u001b[0m\n\u001b[1;32m----> 1\u001b[1;33m \u001b[0mgoldie\u001b[0m \u001b[1;33m=\u001b[0m \u001b[0mGoldFish\u001b[0m\u001b[1;33m(\u001b[0m\u001b[1;33m)\u001b[0m\u001b[1;33m\u001b[0m\u001b[1;33m\u001b[0m\u001b[0m\n\u001b[0m",
      "\u001b[1;31mTypeError\u001b[0m: Can't instantiate abstract class GoldFish with abstract methods eat_fish"
     ]
    }
   ],
   "source": [
    "goldie = GoldFish()"
   ]
  },
  {
   "cell_type": "markdown",
   "metadata": {},
   "source": [
    "## 9 Polymorphism"
   ]
  },
  {
   "cell_type": "markdown",
   "metadata": {},
   "source": [
    "Different classes can have methods and properties with same name, they can be used as per requiremnts.\n",
    "Having same name but differnt forms is called polymorphism"
   ]
  },
  {
   "cell_type": "code",
   "execution_count": 56,
   "metadata": {},
   "outputs": [],
   "source": [
    "class Elephant(object):\n",
    "    def __init__(self,name):\n",
    "        self.name = name\n",
    "        print(self.name,' Elephant is created')\n",
    "    \n",
    "    def info(self):\n",
    "        print(self.name,' is an elephant')\n",
    "        print(self.name,' eats grass')"
   ]
  },
  {
   "cell_type": "code",
   "execution_count": 57,
   "metadata": {},
   "outputs": [],
   "source": [
    "class Giraffe(object):\n",
    "    def __init__(self,name):\n",
    "        self.name = name\n",
    "        print(self.name,' Giraffe is created')\n",
    "    \n",
    "    def info(self):\n",
    "        print(self.name,' is an giraffe')\n",
    "        print(self.name,' eats grass')"
   ]
  },
  {
   "cell_type": "code",
   "execution_count": 58,
   "metadata": {},
   "outputs": [
    {
     "name": "stdout",
     "output_type": "stream",
     "text": [
      "Jumbo  Elephant is created\n"
     ]
    }
   ],
   "source": [
    "e = Elephant('Jumbo')"
   ]
  },
  {
   "cell_type": "code",
   "execution_count": 59,
   "metadata": {},
   "outputs": [
    {
     "name": "stdout",
     "output_type": "stream",
     "text": [
      "Jiggi  Giraffe is created\n"
     ]
    }
   ],
   "source": [
    "g = Giraffe('Jiggi')"
   ]
  },
  {
   "cell_type": "code",
   "execution_count": 60,
   "metadata": {},
   "outputs": [
    {
     "name": "stdout",
     "output_type": "stream",
     "text": [
      "Jumbo  is an elephant\n",
      "Jumbo  eats grass\n",
      "Jiggi  is an giraffe\n",
      "Jiggi  eats grass\n"
     ]
    }
   ],
   "source": [
    "for animal in (e,g):\n",
    "    animal.info()"
   ]
  },
  {
   "cell_type": "markdown",
   "metadata": {},
   "source": [
    "## 10 Operator overloading"
   ]
  },
  {
   "cell_type": "code",
   "execution_count": 62,
   "metadata": {},
   "outputs": [
    {
     "name": "stdout",
     "output_type": "stream",
     "text": [
      "3\n",
      "hello world\n"
     ]
    }
   ],
   "source": [
    "# same operator is used but meaning is different\n",
    "# another form of polymorphism/ opertator overloading\n",
    "\n",
    "#addition\n",
    "print(1+2)\n",
    "\n",
    "#concatination\n",
    "print('hello'+' '+'world')\n"
   ]
  },
  {
   "cell_type": "markdown",
   "metadata": {},
   "source": [
    "## 11 Function overloading"
   ]
  },
  {
   "cell_type": "code",
   "execution_count": 64,
   "metadata": {},
   "outputs": [
    {
     "name": "stdout",
     "output_type": "stream",
     "text": [
      "13\n",
      "5\n",
      "3\n"
     ]
    }
   ],
   "source": [
    "#Function name is same but argumetns are different\n",
    "\n",
    "# length of string\n",
    "print(len('Hello, World!'))\n",
    "\n",
    "#length of list\n",
    "print(len([1,3,5,7,9,]))\n",
    "\n",
    "#length of dictionary\n",
    "print(len({'0':'A','1':'B','2':'C'}))"
   ]
  },
  {
   "cell_type": "code",
   "execution_count": null,
   "metadata": {},
   "outputs": [],
   "source": []
  }
 ],
 "metadata": {
  "kernelspec": {
   "display_name": "Python 3",
   "language": "python",
   "name": "python3"
  },
  "language_info": {
   "codemirror_mode": {
    "name": "ipython",
    "version": 3
   },
   "file_extension": ".py",
   "mimetype": "text/x-python",
   "name": "python",
   "nbconvert_exporter": "python",
   "pygments_lexer": "ipython3",
   "version": "3.7.4"
  }
 },
 "nbformat": 4,
 "nbformat_minor": 4
}
